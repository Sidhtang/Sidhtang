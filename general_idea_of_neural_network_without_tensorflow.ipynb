{
  "nbformat": 4,
  "nbformat_minor": 0,
  "metadata": {
    "colab": {
      "provenance": [],
      "authorship_tag": "ABX9TyNSHtdy+bbQMHl916vd9v8F",
      "include_colab_link": true
    },
    "kernelspec": {
      "name": "python3",
      "display_name": "Python 3"
    },
    "language_info": {
      "name": "python"
    }
  },
  "cells": [
    {
      "cell_type": "markdown",
      "metadata": {
        "id": "view-in-github",
        "colab_type": "text"
      },
      "source": [
        "<a href=\"https://colab.research.google.com/github/Sidhtang/machine-learining-with-CN/blob/main/general_idea_of_neural_network_without_tensorflow.ipynb\" target=\"_parent\"><img src=\"https://colab.research.google.com/assets/colab-badge.svg\" alt=\"Open In Colab\"/></a>"
      ]
    },
    {
      "cell_type": "code",
      "execution_count": null,
      "metadata": {
        "id": "Bgqk19zTr_B5"
      },
      "outputs": [],
      "source": [
        "import numpy as np"
      ]
    },
    {
      "cell_type": "code",
      "source": [
        "X = np.array([[0,0], [0,1], [1,0], [1,1]])\n",
        "Y = np.array([[0,0,0,1]]).T\n",
        "X.shape, Y.shape"
      ],
      "metadata": {
        "colab": {
          "base_uri": "https://localhost:8080/"
        },
        "id": "LQpEguy-v7yR",
        "outputId": "b35695b6-c2c9-4989-90f0-0bce0fd65145"
      },
      "execution_count": null,
      "outputs": [
        {
          "output_type": "execute_result",
          "data": {
            "text/plain": [
              "((4, 2), (4, 1))"
            ]
          },
          "metadata": {},
          "execution_count": 2
        }
      ]
    },
    {
      "cell_type": "code",
      "source": [
        "def sig(z):\n",
        "    return 1/(1 + np.exp(-z))\n"
      ],
      "metadata": {
        "id": "tGqIVtxtv70j"
      },
      "execution_count": null,
      "outputs": []
    },
    {
      "cell_type": "code",
      "source": [
        "def derivativeSig(z):\n",
        "  return sig(z)*(1-sig(z))"
      ],
      "metadata": {
        "id": "LLRVsuexvR0o"
      },
      "execution_count": null,
      "outputs": []
    },
    {
      "cell_type": "code",
      "source": [],
      "metadata": {
        "id": "qF_Po1YcvjCn"
      },
      "execution_count": null,
      "outputs": []
    },
    {
      "cell_type": "code",
      "source": [
        "#no hidden layer weights\n",
        "weights=2*np.random.random((2,1)) -1\n",
        "bias=2*np.random.random(1)-1\n",
        "lr = 0.1\n",
        "weights,bias"
      ],
      "metadata": {
        "colab": {
          "base_uri": "https://localhost:8080/"
        },
        "id": "xLumCsM6v726",
        "outputId": "45ed9b5a-e206-4eb3-81d0-2f19b0bba665"
      },
      "execution_count": null,
      "outputs": [
        {
          "output_type": "execute_result",
          "data": {
            "text/plain": [
              "(array([[0.48388623],\n",
              "        [0.34492992]]),\n",
              " array([0.88886469]))"
            ]
          },
          "metadata": {},
          "execution_count": 5
        }
      ]
    },
    {
      "cell_type": "code",
      "source": [
        "for iter in range(10000):\n",
        "    output0 = X\n",
        "    output = sig(np.dot(output0, weights) + bias)\n",
        "\n",
        "    first_term = output - Y\n",
        "    input_for_last_layer = np.dot(output0, weights) + bias\n",
        "    second_term = derivativeSig(input_for_last_layer)\n",
        "    first_two = first_term * second_term\n",
        "    # Compute changes for weights and bias\n",
        "    changes = np.dot(output0.T, first_two)\n",
        "    bias_change = np.sum(first_two)\n",
        "\n",
        "    # Update weights and bias\n",
        "    weights = weights - lr * changes\n",
        "    bias = bias - lr * bias_change\n",
        "\n",
        "# Compute final output after training\n",
        "output = sig(np.dot(X, weights) + bias)\n",
        "weights, bias, output"
      ],
      "metadata": {
        "colab": {
          "base_uri": "https://localhost:8080/"
        },
        "id": "Wnrg6AD-6Gi7",
        "outputId": "efb75430-001e-44d3-98a5-185c77088aa0"
      },
      "execution_count": null,
      "outputs": [
        {
          "output_type": "execute_result",
          "data": {
            "text/plain": [
              "(array([[5.47509046],\n",
              "        [5.47509046]]),\n",
              " array([-8.30534709]),\n",
              " array([[2.47130443e-04],\n",
              "        [5.57108958e-02],\n",
              "        [5.57108959e-02],\n",
              "        [9.33691862e-01]]))"
            ]
          },
          "metadata": {},
          "execution_count": 6
        }
      ]
    },
    {
      "cell_type": "code",
      "source": [
        "#general neural netwrok\n",
        "\n",
        "\n"
      ],
      "metadata": {
        "id": "bwcyblEp-cim"
      },
      "execution_count": null,
      "outputs": []
    },
    {
      "cell_type": "code",
      "source": [],
      "metadata": {
        "id": "f4Jds81l-cl9"
      },
      "execution_count": null,
      "outputs": []
    },
    {
      "cell_type": "code",
      "source": [],
      "metadata": {
        "id": "_2trijfG6Gmr"
      },
      "execution_count": null,
      "outputs": []
    },
    {
      "cell_type": "code",
      "source": [],
      "metadata": {
        "id": "kQqIQnpy6GpO"
      },
      "execution_count": null,
      "outputs": []
    },
    {
      "cell_type": "code",
      "source": [],
      "metadata": {
        "id": "i4pyyWxF6Grd"
      },
      "execution_count": null,
      "outputs": []
    }
  ]
}