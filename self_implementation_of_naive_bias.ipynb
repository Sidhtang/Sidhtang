{
  "nbformat": 4,
  "nbformat_minor": 0,
  "metadata": {
    "colab": {
      "provenance": [],
      "authorship_tag": "ABX9TyNTLYJiNsRb8J5BWTg4ZfbC",
      "include_colab_link": true
    },
    "kernelspec": {
      "name": "python3",
      "display_name": "Python 3"
    },
    "language_info": {
      "name": "python"
    }
  },
  "cells": [
    {
      "cell_type": "markdown",
      "metadata": {
        "id": "view-in-github",
        "colab_type": "text"
      },
      "source": [
        "<a href=\"https://colab.research.google.com/github/Sidhtang/mavhine-learining-with-CN/blob/main/self_implementation_of_naive_bias.ipynb\" target=\"_parent\"><img src=\"https://colab.research.google.com/assets/colab-badge.svg\" alt=\"Open In Colab\"/></a>"
      ]
    },
    {
      "cell_type": "code",
      "source": [
        "#Making dictionary for implementing Naive Baye's\n",
        "def fit(x_train_dataset,y_train):\n",
        "    count={}\n",
        "    total_word=0\n",
        "    y_train=np.array(y_train)\n",
        "    #Total no. of document is calculated\n",
        "    count[\"total_doc\"]=len(y_train)\n",
        "    classes=set(y_train)\n",
        "    for i in classes:\n",
        "        temp=0\n",
        "        #selecting x_train corresponding to class present in y_train\n",
        "        x_train_with_i=x_train_dataset[y_train==i]\n",
        "        #finding length of data with category corresponding to i\n",
        "        temp2=x_train_with_i.shape[0]\n",
        "        count[i]={}\n",
        "        #Iterating over answer1(actual feature list)\n",
        "        for feature in answer1:\n",
        "            #Calculating total word in feature\n",
        "            l=(x_train_with_i[:,answer1.index(feature)]).sum()\n",
        "            count[i][feature]=l\n",
        "            temp+=l\n",
        "        #Total word in that class\n",
        "        count[i][\"word_in_class\"]=temp\n",
        "        #Length of data with y_train belonging to specific class\n",
        "        count[i][\"length\"]=temp2\n",
        "\n",
        "\n",
        "    return count\n"
      ],
      "metadata": {
        "id": "wfevdnhxc5ak"
      },
      "execution_count": 26,
      "outputs": []
    },
    {
      "cell_type": "code",
      "source": [
        "def probability(x_test,dic,classes):\n",
        "    prob=np.log(dic[classes][\"length\"])-np.log(dic[\"total_doc\"])\n",
        "    feature=list(dic[classes].keys())\n",
        "    #-2 is done becuase there will be \"length\" and \"word in class\" present in feature.\n",
        "    for j in range (len(feature)-2):\n",
        "        xj=x_test[j]\n",
        "        #If frequency is 0, we will not consider it\n",
        "        if xj==0:\n",
        "            current_prob=0\n",
        "        else:\n",
        "            #Extra addition part is Laplace correction\n",
        "            num=dic[classes][feature[j]]+1\n",
        "            den=dic[classes][\"word_in_class\"]+len(dic[classes].keys())-2\n",
        "            current_prob=np.log(num)-np.log(den)\n",
        "        prob+=current_prob\n",
        "    return prob\n",
        ""
      ],
      "metadata": {
        "id": "hYLOfmhYdA4M"
      },
      "execution_count": 27,
      "outputs": []
    },
    {
      "cell_type": "code",
      "source": [
        "#Best_class or probable answer will be returned from here\n",
        "def predict_for_single(x_test,dic):\n",
        "    first_run=True\n",
        "    classes=dic.keys()\n",
        "    for i in classes:\n",
        "        if i==\"total_doc\":\n",
        "            continue\n",
        "        prob=probability(x_test,dic,i)\n",
        "        if first_run or prob>best_prob:\n",
        "            best_prob=prob\n",
        "            first_run=False\n",
        "            best_class=i\n",
        "    return best_class\n",
        "\n",
        ""
      ],
      "metadata": {
        "id": "6jiTIt29ZWXf"
      },
      "execution_count": 28,
      "outputs": []
    },
    {
      "cell_type": "code",
      "source": [
        "def predict_(x_test,dic):\n",
        "    y_pred=[]\n",
        "    for x in x_test:\n",
        "        y_pred.append(predict_for_single(x,dic))\n",
        "    return y_pred\n"
      ],
      "metadata": {
        "id": "FazVKD1CdJkr"
      },
      "execution_count": 29,
      "outputs": []
    },
    {
      "cell_type": "code",
      "source": [
        "def score(y_test,y_pred):\n",
        "        count = 0\n",
        "        for i in range(len(y_pred)):\n",
        "            if y_pred[i] == y_test[i]:\n",
        "                count+=1\n",
        "        return count/len(y_pred)"
      ],
      "metadata": {
        "id": "krdzfcJPcY1U"
      },
      "execution_count": 30,
      "outputs": []
    },
    {
      "cell_type": "code",
      "source": [
        "from sklearn.metrics import classification_report,confusion_matrix,accuracy_score\n",
        "import pandas as pd"
      ],
      "metadata": {
        "id": "sjgbb6zqcjDG"
      },
      "execution_count": 31,
      "outputs": []
    },
    {
      "cell_type": "code",
      "source": [
        "print(\"Score on testing_data:\",score(y_test,y_pred))\n",
        "print(confusion_matrix(y_test,y_pred))\n",
        "print(classification_report(y_test,y_pred))\n"
      ],
      "metadata": {
        "id": "t1iZUnZccjFX"
      },
      "execution_count": null,
      "outputs": []
    },
    {
      "cell_type": "code",
      "source": [],
      "metadata": {
        "id": "Epc0eMQ4cjI5"
      },
      "execution_count": null,
      "outputs": []
    },
    {
      "cell_type": "code",
      "source": [],
      "metadata": {
        "id": "7vTuSddocegX"
      },
      "execution_count": null,
      "outputs": []
    },
    {
      "cell_type": "code",
      "source": [],
      "metadata": {
        "id": "wdxzz6lfZWZ5"
      },
      "execution_count": null,
      "outputs": []
    },
    {
      "cell_type": "code",
      "source": [],
      "metadata": {
        "id": "B0vnktJeZWcN"
      },
      "execution_count": null,
      "outputs": []
    },
    {
      "cell_type": "code",
      "source": [],
      "metadata": {
        "id": "ddZWKcMeZWfy"
      },
      "execution_count": null,
      "outputs": []
    }
  ]
}